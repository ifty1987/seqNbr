{
 "cells": [
  {
   "cell_type": "code",
   "execution_count": 1,
   "id": "4546d58a",
   "metadata": {},
   "outputs": [],
   "source": [
    "import csv\n",
    "from collections import OrderedDict\n",
    "import numpy as np\n",
    "import gc\n",
    "\n",
    "file = open('/home/user/Downloads/Read/PFI_for_NBR/TaFang/TaFang_history_NB.csv')\n",
    "csv_reader = csv.reader(file)\n",
    "header = next(csv_reader)"
   ]
  },
  {
   "cell_type": "code",
   "execution_count": null,
   "id": "ac9b95ed",
   "metadata": {},
   "outputs": [],
   "source": []
  }
 ],
 "metadata": {
  "kernelspec": {
   "display_name": "Python 3 (ipykernel)",
   "language": "python",
   "name": "python3"
  },
  "language_info": {
   "codemirror_mode": {
    "name": "ipython",
    "version": 3
   },
   "file_extension": ".py",
   "mimetype": "text/x-python",
   "name": "python",
   "nbconvert_exporter": "python",
   "pygments_lexer": "ipython3",
   "version": "3.10.6"
  }
 },
 "nbformat": 4,
 "nbformat_minor": 5
}
