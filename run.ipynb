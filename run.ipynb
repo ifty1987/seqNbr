
    {
      "cell_type": "code",
      "source": [
        "import csv\n",
        "from collections import OrderedDict\n",
        "import numpy as np\n",
        "import gc\n",
        "\n",
        "file = open('seqNbr/TaFang_history_NB.csv')\n",
        "csv_reader = csv.reader(file)\n",
        "header = next(csv_reader)\n",
        "\n",
        "\n",
        "\n",
        "count_of_customers = 0\n",
        "count_of_products = 0\n",
        "last_order_no = -1\n",
        "last_customer_no = -1\n",
        "customer_baskets = OrderedDict()\n",
        "\n",
        "product_set = set()\n",
        "\n",
        "for row in csv_reader:\n",
        "  curr_customer_no,curr_order_no,curr_product_no = int(row[0]),int(row[1]),int(row[2])\n",
        "  if curr_customer_no != last_customer_no:\n",
        "    if last_customer_no != -1:\n",
        "      customer_baskets[last_customer_no].append(running_basket)\n",
        "    customer_baskets[curr_customer_no]= []\n",
        "    running_basket = [curr_product_no-1]\n",
        "    last_customer_no = curr_customer_no\n",
        "    last_order_no = curr_order_no\n",
        "  elif curr_customer_no == last_customer_no and curr_order_no != last_order_no :\n",
        "    customer_baskets[curr_customer_no].append(running_basket)\n",
        "    running_basket = [curr_product_no-1] \n",
        "    last_order_no=curr_order_no\n",
        "  elif curr_customer_no == last_customer_no and curr_order_no == last_order_no :\n",
        "    running_basket.append(curr_product_no-1)\n",
        "\n",
        "  product_set.add(curr_product_no)\n",
        "customer_baskets[last_customer_no].append(running_basket)\n",
        "print(len(customer_baskets.keys()))\n",
        "print(len(product_set))\n",
        "print(customer_baskets[2])\n",
        "\n",
        "binary_baskets = OrderedDict()\n",
        "for customer_no, customer_basket in customer_baskets.items():\n",
        "    binary_baskets[customer_no] = []\n",
        "    for i in range(len(customer_basket)):\n",
        "        binary_baskets[customer_no].append(np.zeros(len(product_set)))\n",
        "    for i in range(len(customer_basket)):\n",
        "        for product_no in customer_basket[i]:\n",
        "            binary_baskets[customer_no][i][product_no] = 1\n",
        "\n",
        "del customer_baskets\n",
        "gc.collect()\n",
        "\n",
        "m = int(input(\"Enter the value of number of groups, m: \"))\n",
        "r_b = float(input(\"Enter the value of r_b: \"))\n",
        "\n",
        "\n",
        "\n",
        "\n"
      ],
      "metadata": {
        "id": "gv-yODrstKb-",
        "outputId": "db7fb0bb-aa90-4069-f62b-db9d23b1ca2c",
        "colab": {
          "base_uri": "https://localhost:8080/"
        }
      },
      "execution_count": 2,
      "outputs": [
        {
          "name": "stdout",
          "output_type": "stream",
          "text": [
            "13949\n",
            "11997\n",
            "[[50, 51, 52, 53, 54, 55, 56, 57, 58, 59, 60, 61, 62, 63, 64, 65, 66, 67], [68], [50, 69], [70, 71, 72, 73, 74, 75, 76, 77, 78, 79], [80, 81, 82, 83, 84, 70, 85, 86, 87, 88, 89, 90, 91], [92, 61, 66, 93, 94, 50, 68, 95, 96, 97, 98, 99, 100, 101, 4, 102], [103, 68, 104], [70, 105, 106, 107, 108, 109, 110, 111, 112, 113, 114, 115, 116, 117, 66, 118, 119, 120], [121], [92], [122, 54, 123], [124, 125], [126, 127], [128, 129, 106, 130, 92, 131, 132, 133, 134, 135, 136, 137, 138, 139, 140, 141], [142, 143, 144, 145, 106, 52, 146, 147]]\n",
            "Enter the value of number of groups, m: 7\n",
            "Enter the value of r_b: 0.9\n"
          ]
        }
      ]
    },
    {
      "cell_type": "code",
      "source": [
        "P = OrderedDict()\n",
        "\n",
        "for customer_no, customer_basket in binary_baskets.items():\n",
        "    P[customer_no] = []\n",
        "    if len(customer_basket)%m != 0:\n",
        "        rest_groups_len = len(customer_basket)//m\n",
        "        first_group_len = len(customer_basket)-(rest_groups_len*(m-1))\n",
        "    else:\n",
        "        first_group_len = len(customer_basket)//m\n",
        "        rest_groups_len = len(customer_basket)//m\n",
        "\n",
        "    temp_counter = first_group_len\n",
        "    temp_basket = np.zeros(len(product_set))\n",
        "    for i in range(len(customer_basket)):\n",
        "        if first_group_len != 0:\n",
        "            temp_basket += (pow(r_b, temp_counter-1)*binary_baskets[customer_no][i])\n",
        "            temp_counter -= 1\n",
        "            if temp_counter == 0:\n",
        "                temp_basket = temp_basket/first_group_len\n",
        "                P[customer_no].append(temp_basket)\n",
        "                temp_basket = np.zeros(len(product_set))\n",
        "                if first_group_len == len(customer_basket):\n",
        "                    break\n",
        "                first_group_len = 0\n",
        "                temp_counter = rest_groups_len\n",
        "        else:\n",
        "            temp_basket += (pow(r_b, temp_counter-1)*binary_baskets[customer_no][i])\n",
        "            temp_counter -= 1\n",
        "            if temp_counter == 0:\n",
        "                temp_basket = temp_basket/rest_groups_len\n",
        "                P[customer_no].append(temp_basket)\n",
        "                temp_basket = np.zeros(len(product_set))\n",
        "                temp_counter = rest_groups_len\n",
        "del binary_baskets\n",
        "gc.collect()\n",
        "\n"
      ],
      "metadata": {
        "id": "uwx6nIKODm73",
        "outputId": "586721db-5016-4b03-8c96-da9e0689c36e",
        "colab": {
          "base_uri": "https://localhost:8080/"
        }
      },
      "execution_count": 7,
      "outputs": [
        {
          "output_type": "execute_result",
          "data": {
            "text/plain": [
              "0"
            ]
          },
          "metadata": {},
          "execution_count": 7
        }
      ]
    },
    {
      "cell_type": "code",
      "source": [
        "r_g = float(input(\"Enter the value of r_g: \"))"
      ],
      "metadata": {
        "id": "iqQbWXtx40tz",
        "outputId": "eb5b0ca1-2c67-4654-e21f-e13cc07f36dd",
        "colab": {
          "base_uri": "https://localhost:8080/"
        }
      },
      "execution_count": 8,
      "outputs": [
        {
          "name": "stdout",
          "output_type": "stream",
          "text": [
            "Enter the value of r_g: 0.7\n"
          ]
        }
      ]
    },
    {
      "cell_type": "code",
      "source": [
        "u = OrderedDict()\n",
        "temp_basket = np.zeros(len(product_set))\n",
        "for customer_no, customer_baskets in P.item()\n",
        "  u[customer_no]=[]\n",
        "  for i in range(len(customer_baskets))\n",
        "    temp_basket+=pow(r_g,len(customer_baskets)-i)*P[customer_no][i]\n",
        "  temp_basket=temp_basket/len(customer_baskets\n",
        "  u[customer_no].append(temp_basket)"
      ],
      "metadata": {
        "id": "l07j7JTgTNFA"
      },
      "execution_count": null,
      "outputs": []
    }
  ],
  "metadata": {
    "colab": {
      "name": "Welcome To Colaboratory",
      "provenance": [],
      "include_colab_link": true
    },
    "kernelspec": {
      "display_name": "Python 3",
      "name": "python3"
    }
  },
  "nbformat": 4,
  "nbformat_minor": 0
}
