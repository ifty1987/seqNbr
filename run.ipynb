{
  "cells": [
    {
      "cell_type": "code",
      "execution_count": 1,
      "id": "4546d58a",
      "metadata": {
        "id": "4546d58a"
      },
      "outputs": [],
      "source": [
        "import csv\n",
        "from collections import OrderedDict\n",
        "import numpy as np\n",
        "import gc\n",
        "\n",
        "file = open('TaFang_history_NB.csv')\n",
        "csv_reader = csv.reader(file)\n",
        "header = next(csv_reader)"
      ]
    },
    {
      "cell_type": "code",
      "source": [
        "count_of_customers = 0\n",
        "count_of_products = 0\n",
        "last_order_no = -1\n",
        "last_customer_no = -1\n",
        "customer_baskets = OrderedDict()\n",
        "\n",
        "product_set = set()\n",
        "\n",
        "for row in csv_reader:\n",
        "  curr_customer_no,curr_order_no,curr_product_no = int(row[0]),int(row[1]),int(row[2])\n",
        "  if curr_customer_no != last_customer_no:\n",
        "    if last_customer_no != -1:\n",
        "      customer_baskets[last_customer_no].append(running_basket)\n",
        "    \n"
      ],
      "metadata": {
        "id": "IZBzvLycYYZy"
      },
      "id": "IZBzvLycYYZy",
      "execution_count": 4,
      "outputs": []
    }
  ],
  "metadata": {
    "kernelspec": {
      "display_name": "Python 3 (ipykernel)",
      "language": "python",
      "name": "python3"
    },
    "language_info": {
      "codemirror_mode": {
        "name": "ipython",
        "version": 3
      },
      "file_extension": ".py",
      "mimetype": "text/x-python",
      "name": "python",
      "nbconvert_exporter": "python",
      "pygments_lexer": "ipython3",
      "version": "3.10.6"
    },
    "colab": {
      "provenance": []
    }
  },
  "nbformat": 4,
  "nbformat_minor": 5
}